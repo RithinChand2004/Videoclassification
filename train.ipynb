{
 "cells": [
  {
   "cell_type": "code",
   "execution_count": 43,
   "metadata": {
    "colab": {
     "base_uri": "https://localhost:8080/",
     "height": 52
    },
    "colab_type": "code",
    "id": "YNEqwGzTPgDW",
    "outputId": "65c631ac-f8f9-48e7-f1a9-003311047a26"
   },
   "outputs": [],
   "source": [
    "# from google_drive_downloader import GoogleDriveDownloader as gdd\n",
    "# gdd.download_file_from_google_drive(file_id='1TdfOz-MVrA_XP8h8oXd8IBTvOXwbFN1Y',\n",
    "#                                     dest_path='/content/data.zip',\n",
    "#                                     unzip=True)"
   ]
  },
  {
   "cell_type": "code",
   "execution_count": 44,
   "metadata": {
    "colab": {
     "base_uri": "https://localhost:8080/",
     "height": 72
    },
    "colab_type": "code",
    "id": "gfdq8bSO7s0a",
    "outputId": "038c2d3b-2a64-4f6f-edfd-a6d7b17bf193"
   },
   "outputs": [],
   "source": [
    "import torchvision\n",
    "import torch\n",
    "from torch import nn\n",
    "import torch.nn.functional as F\n",
    "import torchvision.models as models\n",
    "import torch.optim as optim\n",
    "import copy\n",
    "import os\n",
    "from tqdm.autonotebook import tqdm\n",
    "import matplotlib.pyplot as plt\n",
    "from torch.utils.data import Dataset\n",
    "from torchvision import transforms\n",
    "from torch.utils.data import DataLoader\n",
    "import numpy as np\n",
    "from torch.utils.data.sampler import SubsetRandomSampler\n",
    "import cv2\n",
    "import sys"
   ]
  },
  {
   "cell_type": "code",
   "execution_count": 45,
   "metadata": {},
   "outputs": [
    {
     "data": {
      "text/plain": [
       "True"
      ]
     },
     "execution_count": 45,
     "metadata": {},
     "output_type": "execute_result"
    }
   ],
   "source": [
    "torch.cuda.is_available()"
   ]
  },
  {
   "cell_type": "code",
   "execution_count": 46,
   "metadata": {
    "colab": {
     "base_uri": "https://localhost:8080/",
     "height": 140
    },
    "colab_type": "code",
    "id": "hFDscTBfPNt1",
    "outputId": "53419b6a-93b7-4566-cf77-9919410c7467"
   },
   "outputs": [],
   "source": [
    "# !git clone https://github.com/sanchit2843/Videoclassification\n",
    "# %cd Videoclassification"
   ]
  },
  {
   "cell_type": "code",
   "execution_count": 47,
   "metadata": {
    "colab": {},
    "colab_type": "code",
    "id": "__TVncCdN1jN"
   },
   "outputs": [],
   "source": [
    "#Label file:\n",
    "data_path = r'content\\crime16'\n",
    "classes = os.listdir(data_path)\n",
    "decoder = {}\n",
    "for i in range(len(classes)):\n",
    "    decoder[classes[i]] = i\n",
    "encoder = {}\n",
    "for i in range(len(classes)):\n",
    "    encoder[i] = classes[i]"
   ]
  },
  {
   "cell_type": "code",
   "execution_count": 48,
   "metadata": {
    "colab": {},
    "colab_type": "code",
    "id": "TiuCb0FPCn87"
   },
   "outputs": [],
   "source": [
    "id = list()\n",
    "path = r'content\\crime16'\n",
    "for i in os.listdir(path):\n",
    "  p1 = os.path.join(path,i)\n",
    "  for j in os.listdir(p1):\n",
    "    p2 = os.path.join(p1,j)\n",
    "    id.append((i,p2))"
   ]
  },
  {
   "cell_type": "code",
   "execution_count": 49,
   "metadata": {
    "colab": {},
    "colab_type": "code",
    "id": "v5iUVP4p6VFn"
   },
   "outputs": [],
   "source": [
    "class video_dataset(Dataset):\n",
    "    def __init__(self,frame_list,sequence_length = 16,transform = None):\n",
    "        self.frame_list = frame_list\n",
    "        self.transform = transform\n",
    "        self.sequence_length = sequence_length\n",
    "    def __len__(self):\n",
    "        return len(self.frame_list)\n",
    "    def __getitem__(self,idx):\n",
    "        label,path = self.frame_list[idx]\n",
    "        img = cv2.imread(path)\n",
    "        seq_img = list()\n",
    "        for i in range(16):\n",
    "          img1 = img[:,128*i:128*(i+1),:]\n",
    "          if(self.transform):\n",
    "            img1 = self.transform(img1)\n",
    "          seq_img.append(img1)\n",
    "        seq_image = torch.stack(seq_img)\n",
    "        seq_image = seq_image.reshape(3,16,im_size,im_size)\n",
    "        return seq_image,decoder[label]"
   ]
  },
  {
   "cell_type": "code",
   "execution_count": 50,
   "metadata": {
    "colab": {},
    "colab_type": "code",
    "id": "msB4umEmPxj6"
   },
   "outputs": [],
   "source": [
    "im_size = 128\n",
    "mean = [0.4889, 0.4887, 0.4891]\n",
    "std = [0.2074, 0.2074, 0.2074]\n",
    "\n",
    "\n",
    "train_transforms = transforms.Compose([\n",
    "                                        transforms.ToPILImage(),\n",
    "                                        transforms.Resize((im_size,im_size)),\n",
    "                                        transforms.RandomHorizontalFlip(),\n",
    "                                        transforms.RandomRotation(degrees=10),\n",
    "                                        transforms.ToTensor(),\n",
    "                                        transforms.Normalize(mean,std)])\n",
    "\n",
    "train_data = video_dataset(id,sequence_length = 16,transform = train_transforms)\n",
    "train_loader = DataLoader(train_data,batch_size = 8,num_workers = 0 ,shuffle = True)\n",
    "dataloaders = {'train':train_loader}"
   ]
  },
  {
   "cell_type": "code",
   "execution_count": 51,
   "metadata": {
    "colab": {},
    "colab_type": "code",
    "id": "NqtR9UDF72pX"
   },
   "outputs": [],
   "source": [
    "from model import resnet50\n",
    "model = resnet50(class_num=8).to('cuda')"
   ]
  },
  {
   "cell_type": "code",
   "execution_count": 52,
   "metadata": {
    "colab": {},
    "colab_type": "code",
    "id": "QqyU-0k67-N_"
   },
   "outputs": [],
   "source": [
    "from clr import *\n",
    "device = 'cuda'\n",
    "cls_criterion = nn.CrossEntropyLoss().to(device)\n",
    "optimizer = torch.optim.SGD(model.parameters(), lr=1e-3, momentum = 0.9,weight_decay = 1e-4)\n",
    "num_epochs = 20\n",
    "onecyc = OneCycle(len(train_loader)*num_epochs,1e-3)"
   ]
  },
  {
   "cell_type": "code",
   "execution_count": 53,
   "metadata": {
    "colab": {
     "base_uri": "https://localhost:8080/",
     "height": 1000
    },
    "colab_type": "code",
    "id": "ybCCnE-T8GzU",
    "outputId": "c61a164b-7d91-4455-ee0a-f92374f9aaca"
   },
   "outputs": [
    {
     "name": "stdout",
     "output_type": "stream",
     "text": [
      "\n",
      "--- Epoch 0 ---\n",
      "\n",
      "--- Phase train ---\n",
      "[Epoch 0/20] [Batch 53/54] [Loss: 2.728233 (1.781287), Acc: 16.67% (30.40%)]\n",
      "train , acc: 30.401234567901238\n",
      "\n",
      "--- Epoch 1 ---\n",
      "\n",
      "--- Phase train ---\n",
      "[Epoch 1/20] [Batch 53/54] [Loss: 1.674116 (1.616594), Acc: 50.00% (34.95%)]\n",
      "train , acc: 34.9537037037037\n",
      "\n",
      "--- Epoch 2 ---\n",
      "\n",
      "--- Phase train ---\n",
      "[Epoch 2/20] [Batch 53/54] [Loss: 1.063029 (1.354409), Acc: 50.00% (46.06%)]\n",
      "train , acc: 46.06481481481482\n",
      "\n",
      "--- Epoch 3 ---\n",
      "\n",
      "--- Phase train ---\n",
      "[Epoch 3/20] [Batch 53/54] [Loss: 1.076518 (1.264877), Acc: 66.67% (52.62%)]\n",
      "train , acc: 52.623456790123456\n",
      "\n",
      "--- Epoch 4 ---\n",
      "\n",
      "--- Phase train ---\n",
      "[Epoch 4/20] [Batch 53/54] [Loss: 0.360105 (0.872820), Acc: 83.33% (67.98%)]]\n",
      "train , acc: 67.97839506172839\n",
      "\n",
      "--- Epoch 5 ---\n",
      "\n",
      "--- Phase train ---\n",
      "[Epoch 5/20] [Batch 53/54] [Loss: 0.393889 (0.774343), Acc: 83.33% (77.70%)]]\n",
      "train , acc: 77.7006172839506\n",
      "\n",
      "--- Epoch 6 ---\n",
      "\n",
      "--- Phase train ---\n",
      "[Epoch 6/20] [Batch 53/54] [Loss: 0.585228 (0.565524), Acc: 83.33% (83.72%)]]\n",
      "train , acc: 83.71913580246913\n",
      "\n",
      "--- Epoch 7 ---\n",
      "\n",
      "--- Phase train ---\n",
      "[Epoch 7/20] [Batch 53/54] [Loss: 0.388962 (0.710799), Acc: 83.33% (78.63%)]]\n",
      "train , acc: 78.62654320987654\n",
      "\n",
      "--- Epoch 8 ---\n",
      "\n",
      "--- Phase train ---\n",
      "[Epoch 8/20] [Batch 53/54] [Loss: 0.048237 (0.668705), Acc: 100.00% (80.56%)]\n",
      "train , acc: 80.55555555555556\n",
      "\n",
      "--- Epoch 9 ---\n",
      "\n",
      "--- Phase train ---\n",
      "[Epoch 9/20] [Batch 53/54] [Loss: 1.780563 (0.487898), Acc: 66.67% (87.11%)]]\n",
      "train , acc: 87.1141975308642\n",
      "\n",
      "--- Epoch 10 ---\n",
      "\n",
      "--- Phase train ---\n",
      "[Epoch 10/20] [Batch 53/54] [Loss: 0.078173 (0.232692), Acc: 100.00% (92.13%)]\n",
      "train , acc: 92.12962962962963\n",
      "\n",
      "--- Epoch 11 ---\n",
      "\n",
      "--- Phase train ---\n",
      "[Epoch 11/20] [Batch 53/54] [Loss: 0.164766 (0.218274), Acc: 83.33% (94.37%)]]\n",
      "train , acc: 94.36728395061728\n",
      "\n",
      "--- Epoch 12 ---\n",
      "\n",
      "--- Phase train ---\n",
      "[Epoch 12/20] [Batch 53/54] [Loss: 0.330422 (0.250469), Acc: 83.33% (91.82%)]]\n",
      "train , acc: 91.82098765432099\n",
      "\n",
      "--- Epoch 13 ---\n",
      "\n",
      "--- Phase train ---\n",
      "[Epoch 13/20] [Batch 53/54] [Loss: 0.000802 (0.060817), Acc: 100.00% (98.15%)]\n",
      "train , acc: 98.14814814814815\n",
      "\n",
      "--- Epoch 14 ---\n",
      "\n",
      "--- Phase train ---\n",
      "[Epoch 14/20] [Batch 53/54] [Loss: 0.005023 (0.120978), Acc: 100.00% (96.76%)]\n",
      "train , acc: 96.75925925925925\n",
      "\n",
      "--- Epoch 15 ---\n",
      "\n",
      "--- Phase train ---\n",
      "[Epoch 15/20] [Batch 53/54] [Loss: 0.000930 (0.076114), Acc: 100.00% (97.92%)]\n",
      "train , acc: 97.91666666666667\n",
      "\n",
      "--- Epoch 16 ---\n",
      "\n",
      "--- Phase train ---\n",
      "[Epoch 16/20] [Batch 53/54] [Loss: 0.001511 (0.062349), Acc: 100.00% (96.99%)]\n",
      "train , acc: 96.99074074074075\n",
      "\n",
      "--- Epoch 17 ---\n",
      "\n",
      "--- Phase train ---\n",
      "[Epoch 17/20] [Batch 53/54] [Loss: 0.000110 (0.040277), Acc: 100.00% (98.38%)]\n",
      "train , acc: 98.37962962962963\n",
      "\n",
      "--- Epoch 18 ---\n",
      "\n",
      "--- Phase train ---\n",
      "[Epoch 18/20] [Batch 53/54] [Loss: 0.000124 (0.015273), Acc: 100.00% (99.31%)]\n",
      "train , acc: 99.30555555555556\n",
      "\n",
      "--- Epoch 19 ---\n",
      "\n",
      "--- Phase train ---\n",
      "[Epoch 19/20] [Batch 53/54] [Loss: 0.000306 (0.063712), Acc: 100.00% (98.15%)]]\n",
      "train , acc: 98.14814814814815\n"
     ]
    }
   ],
   "source": [
    "os.makedirs(r'content\\drive\\My Drive\\weights_crime',exist_ok = True)\n",
    "from torch.autograd import Variable\n",
    "iteration = 0\n",
    "acc_all = list()\n",
    "loss_all = list()\n",
    "    \n",
    "for epoch in range(num_epochs):\n",
    "    print('')\n",
    "    print(f\"--- Epoch {epoch} ---\")\n",
    "    phase1 = dataloaders.keys()\n",
    "    for phase in phase1:\n",
    "        print('')\n",
    "        print(f\"--- Phase {phase} ---\")\n",
    "        epoch_metrics = {\"loss\": [], \"acc\": []}\n",
    "        for batch_i, (X, y) in enumerate(dataloaders[phase]):\n",
    "            #iteration = iteration+1\n",
    "            image_sequences = Variable(X.to(device), requires_grad=True)\n",
    "            labels = Variable(y.to(device), requires_grad=False)\n",
    "            optimizer.zero_grad()\n",
    "            #model.lstm.reset_hidden_state()\n",
    "            predictions = model(image_sequences)\n",
    "            loss = cls_criterion(predictions, labels)\n",
    "            acc = 100 * (predictions.detach().argmax(1) == labels).cpu().numpy().mean()\n",
    "            loss.backward()\n",
    "            optimizer.step()\n",
    "            epoch_metrics[\"loss\"].append(loss.item())\n",
    "            epoch_metrics[\"acc\"].append(acc)\n",
    "            if(phase=='train'):\n",
    "                lr,mom = onecyc.calc()\n",
    "                update_lr(optimizer, lr)\n",
    "                update_mom(optimizer, mom)\n",
    "            batches_done = epoch * len(dataloaders[phase]) + batch_i\n",
    "            batches_left = num_epochs * len(dataloaders[phase]) - batches_done\n",
    "            sys.stdout.write(\n",
    "                    \"\\r[Epoch %d/%d] [Batch %d/%d] [Loss: %f (%f), Acc: %.2f%% (%.2f%%)]\"\n",
    "                    % (\n",
    "                        epoch,\n",
    "                        num_epochs,\n",
    "                        batch_i,\n",
    "                        len(dataloaders[phase]),\n",
    "                        loss.item(),\n",
    "                        np.mean(epoch_metrics[\"loss\"]),\n",
    "                        acc,\n",
    "                        np.mean(epoch_metrics[\"acc\"]),\n",
    "                    )\n",
    "                )\n",
    "\n",
    "                # Empty cache\n",
    "            if torch.cuda.is_available():\n",
    "                torch.cuda.empty_cache()\n",
    "            \n",
    "        print('')\n",
    "        print('{} , acc: {}'.format(phase,np.mean(epoch_metrics[\"acc\"])))\n",
    "        torch.save(model.state_dict(),r'content\\drive\\My Drive\\weights_crime\\c3d_{}.h5'.format(epoch))\n",
    "        if(phase=='train'):\n",
    "          acc_all.append(np.mean(epoch_metrics[\"acc\"]))\n",
    "          loss_all.append(np.mean(epoch_metrics[\"loss\"]))"
   ]
  },
  {
   "cell_type": "code",
   "execution_count": 54,
   "metadata": {
    "colab": {},
    "colab_type": "code",
    "id": "sH7XMOAjV7DH"
   },
   "outputs": [],
   "source": [
    "def error_plot(loss):\n",
    "    plt.figure(figsize=(10,5))\n",
    "    plt.plot(loss)\n",
    "    plt.title(\"Training loss plot\")\n",
    "    plt.xlabel(\"epochs\")\n",
    "    plt.ylabel(\"Loss\")\n",
    "    plt.show()\n",
    "def acc_plot(acc):\n",
    "    plt.figure(figsize=(10,5))\n",
    "    plt.plot(acc)\n",
    "    plt.title(\"Training accuracy plot\")\n",
    "    plt.xlabel(\"epochs\")\n",
    "    plt.ylabel(\"accuracy\")\n",
    "    plt.show()"
   ]
  },
  {
   "cell_type": "code",
   "execution_count": 55,
   "metadata": {
    "colab": {
     "base_uri": "https://localhost:8080/",
     "height": 369
    },
    "colab_type": "code",
    "id": "QoXZ08iHXbD2",
    "outputId": "e725be2b-ade8-4722-9806-10b6d026a33d"
   },
   "outputs": [
    {
     "data": {
      "text/plain": [
       "[1.7812867120460227,\n",
       " 1.6165937185287476,\n",
       " 1.3544088900089264,\n",
       " 1.2648768049699288,\n",
       " 0.8728197181114444,\n",
       " 0.7743426994593056,\n",
       " 0.5655239240645811,\n",
       " 0.7107989646287428,\n",
       " 0.668704725047401,\n",
       " 0.4878980034738089,\n",
       " 0.2326915170533876,\n",
       " 0.21827404376084883,\n",
       " 0.25046872436198303,\n",
       " 0.06081717565083872,\n",
       " 0.12097821200182403,\n",
       " 0.07611446258481548,\n",
       " 0.06234918381192579,\n",
       " 0.0402774916074796,\n",
       " 0.015272812118719567,\n",
       " 0.06371200515955193]"
      ]
     },
     "execution_count": 55,
     "metadata": {},
     "output_type": "execute_result"
    }
   ],
   "source": [
    "loss_all"
   ]
  },
  {
   "cell_type": "code",
   "execution_count": 56,
   "metadata": {
    "colab": {
     "base_uri": "https://localhost:8080/",
     "height": 350
    },
    "colab_type": "code",
    "id": "YtVNjFyeWVrd",
    "outputId": "94439267-4308-404b-d552-529f6afe290b"
   },
   "outputs": [
    {
     "data": {
      "image/png": "[encoded data removed]",
      "text/plain": [
       "<Figure size 1000x500 with 1 Axes>"
      ]
     },
     "metadata": {},
     "output_type": "display_data"
    }
   ],
   "source": [
    "error_plot(loss_all)"
   ]
  },
  {
   "cell_type": "code",
   "execution_count": 57,
   "metadata": {
    "colab": {
     "base_uri": "https://localhost:8080/",
     "height": 350
    },
    "colab_type": "code",
    "id": "dybBWSyyWZfY",
    "outputId": "831e8b30-67d0-494a-ca6c-666f63637f7f"
   },
   "outputs": [
    {
     "data": {
      "image/png": "[encoded data removed]",
      "text/plain": [
       "<Figure size 1000x500 with 1 Axes>"
      ]
     },
     "metadata": {},
     "output_type": "display_data"
    }
   ],
   "source": [
    "acc_plot(acc_all)"
   ]
  },
  {
   "cell_type": "code",
   "execution_count": null,
   "metadata": {},
   "outputs": [],
   "source": []
  }
 ],
 "metadata": {
  "accelerator": "GPU",
  "colab": {
   "collapsed_sections": [],
   "name": "video_dataset_creation.ipynb",
   "provenance": [],
   "version": "0.3.2"
  },
  "kernelspec": {
   "display_name": "nlp",
   "language": "python",
   "name": "python3"
  },
  "language_info": {
   "codemirror_mode": {
    "name": "ipython",
    "version": 3
   },
   "file_extension": ".py",
   "mimetype": "text/x-python",
   "name": "python",
   "nbconvert_exporter": "python",
   "pygments_lexer": "ipython3",
   "version": "3.11.6"
  }
 },
 "nbformat": 4,
 "nbformat_minor": 0
}
