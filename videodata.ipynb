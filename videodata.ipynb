{
 "cells": [
  {
   "cell_type": "markdown",
   "metadata": {
    "colab_type": "text",
    "id": "view-in-github"
   },
   "source": [
    "<a href=\"https://colab.research.google.com/github/sanchit2843/Videoclassification/blob/master/videodata.ipynb\" target=\"_parent\"><img src=\"https://colab.research.google.com/assets/colab-badge.svg\" alt=\"Open In Colab\"/></a>"
   ]
  },
  {
   "cell_type": "code",
   "execution_count": 1,
   "metadata": {
    "colab": {},
    "colab_type": "code",
    "id": "ppO3QcOTLfrE"
   },
   "outputs": [],
   "source": [
    "# #Upload kaggle.json file\n",
    "# # !pip install -i https://test.pypi.org/simple/ supportlib\n",
    "# import supportlib.gettingdata as getdata\n",
    "# getdata.kaggle()\n",
    "# !kaggle datasets download -d mission-ai/crimeucfdataset\n",
    "# getdata.zipextract('/content/crimeucfdataset.zip')"
   ]
  },
  {
   "cell_type": "code",
   "execution_count": 2,
   "metadata": {},
   "outputs": [],
   "source": [
    "# import kagglehub\n",
    "\n",
    "# # Download latest version\n",
    "# path = kagglehub.dataset_download(\"mission-ai/crimeucfdataset\")\n",
    "\n",
    "# print(\"Path to dataset files:\", path)"
   ]
  },
  {
   "cell_type": "code",
   "execution_count": 3,
   "metadata": {
    "colab": {},
    "colab_type": "code",
    "id": "dxHT3jBOLqLX"
   },
   "outputs": [],
   "source": [
    "# !sudo apt-get install -y python-dev pkg-config\n",
    "# !sudo apt-get install -y \\\n",
    "#     libavformat-dev libavcodec-dev libavdevice-dev \\\n",
    "#     libavutil-dev libswscale-dev libswresample-dev libavfilter-dev\n",
    "# !pip install av\n",
    "# import supportlib.gettingdata as getdata\n",
    "import av\n",
    "import glob\n",
    "import os\n",
    "import time\n",
    "import tqdm\n",
    "import datetime\n",
    "import argparse\n",
    "import cv2\n",
    "import numpy as np"
   ]
  },
  {
   "cell_type": "code",
   "execution_count": 4,
   "metadata": {
    "colab": {},
    "colab_type": "code",
    "id": "BJEavZjGLx5c"
   },
   "outputs": [],
   "source": [
    "def video_to_frame(path,out_path):\n",
    "    vidcap = cv2.VideoCapture(path)\n",
    "    success,image = vidcap.read()\n",
    "    count = 0\n",
    "    while success:\n",
    "      cv2.imwrite(os.path.join(out_path,\"{}.jpg\".format(count)), image)\n",
    "      success,image = vidcap.read()\n",
    "      count += 1"
   ]
  },
  {
   "cell_type": "code",
   "execution_count": 5,
   "metadata": {
    "colab": {},
    "colab_type": "code",
    "id": "kJ_JWODgL3Nh"
   },
   "outputs": [],
   "source": [
    "def extract_frames(video_path):\n",
    "    frames = []\n",
    "    video = av.open(video_path)\n",
    "    for frame in video.decode(0):\n",
    "        yield frame.to_image()"
   ]
  },
  {
   "cell_type": "code",
   "execution_count": 6,
   "metadata": {
    "colab": {},
    "colab_type": "code",
    "id": "AI2b5lugL4i3"
   },
   "outputs": [
    {
     "name": "stderr",
     "output_type": "stream",
     "text": [
      "C:\\Users\\rithi\\AppData\\Local\\Temp\\ipykernel_34352\\4038321593.py:2: TqdmExperimentalWarning: Using `tqdm.autonotebook.tqdm` in notebook mode. Use `tqdm.tqdm` instead to force console mode (e.g. in jupyter console)\n",
      "  from tqdm.autonotebook import tqdm\n"
     ]
    },
    {
     "data": {
      "application/vnd.jupyter.widget-view+json": {
       "model_id": "aea7f28ca3944041abe31dfe1cfb8be0",
       "version_major": 2,
       "version_minor": 0
      },
      "text/plain": [
       "  0%|          | 0/2 [00:00<?, ?it/s]"
      ]
     },
     "metadata": {},
     "output_type": "display_data"
    }
   ],
   "source": [
    "#Anomaly videos part1\n",
    "from tqdm.autonotebook import tqdm\n",
    "path = 'content\\Anomaly_Dataset\\Anomaly_Videos\\Anomaly-Videos-Part-1'\n",
    "result = 'content\\Dataset'\n",
    "\n",
    "for i in tqdm(os.listdir(path)):\n",
    "  p1 = os.path.join(path,i)\n",
    "  r1 = os.path.join(result,i)\n",
    "  if os.path.exists(r1):\n",
    "            continue\n",
    "  os.makedirs(r1,exist_ok = True)\n",
    "  for j in os.listdir(p1):\n",
    "    vid_path = os.path.join(p1,j)\n",
    "    r2 = os.path.join(r1,j[:-4])\n",
    "    os.makedirs(r2,exist_ok = True)\n",
    "    for j, frame in enumerate((extract_frames(vid_path))):\n",
    "      frame.save(os.path.join(r2, f\"{j}.jpg\"))"
   ]
  },
  {
   "cell_type": "code",
   "execution_count": 7,
   "metadata": {
    "colab": {},
    "colab_type": "code",
    "id": "VfE3W105L7Ik"
   },
   "outputs": [
    {
     "data": {
      "application/vnd.jupyter.widget-view+json": {
       "model_id": "d7b9f82f716b42bc9e713c68659ee348",
       "version_major": 2,
       "version_minor": 0
      },
      "text/plain": [
       "  0%|          | 0/2 [00:00<?, ?it/s]"
      ]
     },
     "metadata": {},
     "output_type": "display_data"
    }
   ],
   "source": [
    "#Anomaly videos part2\n",
    "from tqdm.autonotebook import tqdm\n",
    "path = 'content\\Anomaly_Dataset\\Anomaly_Videos\\Anomaly-Videos-Part-2'\n",
    "result = 'content\\Dataset'\n",
    "\n",
    "for i in tqdm(os.listdir(path)):\n",
    "  p1 = os.path.join(path,i)\n",
    "  r1 = os.path.join(result,i)\n",
    "  if os.path.exists(r1):\n",
    "            continue\n",
    "  os.makedirs(r1,exist_ok = True)\n",
    "  for j in os.listdir(p1):\n",
    "    vid_path = os.path.join(p1,j)\n",
    "    r2 = os.path.join(r1,j[:-4])\n",
    "    os.makedirs(r2,exist_ok = True)\n",
    "    for j, frame in enumerate((extract_frames(vid_path))):\n",
    "      frame.save(os.path.join(r2, f\"{j}.jpg\"))"
   ]
  },
  {
   "cell_type": "code",
   "execution_count": 8,
   "metadata": {
    "colab": {},
    "colab_type": "code",
    "id": "h6agWZGsL8iL"
   },
   "outputs": [
    {
     "data": {
      "application/vnd.jupyter.widget-view+json": {
       "model_id": "4098b9f4db0e430b889429943fa67e4a",
       "version_major": 2,
       "version_minor": 0
      },
      "text/plain": [
       "  0%|          | 0/17 [00:00<?, ?it/s]"
      ]
     },
     "metadata": {},
     "output_type": "display_data"
    }
   ],
   "source": [
    "#Normal class\n",
    "from tqdm.autonotebook import tqdm\n",
    "path = r'content\\Anomaly_Dataset\\Anomaly_Videos\\Normal-Videos-Part-1'\n",
    "result = r'content\\Dataset\\normal'\n",
    "\n",
    "for i in tqdm(os.listdir(path)):\n",
    "  p1 = os.path.join(path,i)\n",
    "  r1 = os.path.join(result,i[:-4])\n",
    "  if os.path.exists(r1):\n",
    "            continue\n",
    "  os.makedirs(r1,exist_ok = True)\n",
    "  for k, frame in enumerate((extract_frames(p1))):\n",
    "    frame.save(os.path.join(r1, f\"{k}.jpg\"))"
   ]
  },
  {
   "cell_type": "code",
   "execution_count": 9,
   "metadata": {
    "colab": {},
    "colab_type": "code",
    "id": "UTtNLnTILnxq"
   },
   "outputs": [],
   "source": [
    "path = r'content\\Dataset'\n",
    "res = r'content\\crime16'\n",
    "#Number\n",
    "seq_length = 16\n",
    "\n",
    "def preprocess_data(seq_length,path,res):\n",
    "  dir = os.listdir(path)\n",
    "  for i in tqdm(dir):\n",
    "      p1 = os.path.join(path,i)\n",
    "      r1 = os.path.join(res,i)\n",
    "      os.makedirs(r1,exist_ok = True)\n",
    "      for j in os.listdir(p1):\n",
    "          p2 = os.path.join(p1,j)\n",
    "          r2 = os.path.join(r1,j)\n",
    "          l = 0\n",
    "          skip_length = int(len(os.listdir(p2))/seq_length)\n",
    "          for m in range(10):\n",
    "              k = m\n",
    "              while(l!=seq_length):\n",
    "\n",
    "                  p3 = os.path.join(p2,str(k) + \".jpg\")\n",
    "                  try:\n",
    "                      img = cv2.imread(p3)\n",
    "                      img = cv2.resize(img,(128,128))\n",
    "                  except:\n",
    "                      print(p3)\n",
    "                  if(k==0):\n",
    "                      img1 = img\n",
    "                  else:\n",
    "                      img1 = np.append(img1,img,axis = 1)\n",
    "                  k = k+skip_length\n",
    "                  l = l+1    \n",
    "              cv2.imwrite(r2 + str(m)+\".jpg\",img1)\n"
   ]
  },
  {
   "cell_type": "code",
   "execution_count": 10,
   "metadata": {},
   "outputs": [
    {
     "data": {
      "application/vnd.jupyter.widget-view+json": {
       "model_id": "32f65c53d28949228acd72d1c2383ff8",
       "version_major": 2,
       "version_minor": 0
      },
      "text/plain": [
       "  0%|          | 0/5 [00:00<?, ?it/s]"
      ]
     },
     "metadata": {},
     "output_type": "display_data"
    }
   ],
   "source": [
    "preprocess_data(seq_length,path,res)"
   ]
  }
 ],
 "metadata": {
  "colab": {
   "collapsed_sections": [],
   "include_colab_link": true,
   "name": "videodata.ipynb",
   "provenance": [],
   "version": "0.3.2"
  },
  "kernelspec": {
   "display_name": "nlp",
   "language": "python",
   "name": "python3"
  },
  "language_info": {
   "codemirror_mode": {
    "name": "ipython",
    "version": 3
   },
   "file_extension": ".py",
   "mimetype": "text/x-python",
   "name": "python",
   "nbconvert_exporter": "python",
   "pygments_lexer": "ipython3",
   "version": "3.11.6"
  }
 },
 "nbformat": 4,
 "nbformat_minor": 0
}
